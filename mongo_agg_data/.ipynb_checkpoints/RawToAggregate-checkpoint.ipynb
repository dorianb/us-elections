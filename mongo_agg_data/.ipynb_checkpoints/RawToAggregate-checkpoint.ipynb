{
 "cells": [
  {
   "cell_type": "code",
   "execution_count": 1,
   "metadata": {
    "collapsed": true
   },
   "outputs": [],
   "source": [
    "import pandas as pd\n",
    "from os import listdir\n",
    "from os.path import isfile, join"
   ]
  },
  {
   "cell_type": "code",
   "execution_count": 2,
   "metadata": {
    "collapsed": false
   },
   "outputs": [
    {
     "ename": "FileNotFoundError",
     "evalue": "[Errno 2] No such file or directory: './data/'",
     "output_type": "error",
     "traceback": [
      "\u001b[1;31m---------------------------------------------------------------------------\u001b[0m",
      "\u001b[1;31mFileNotFoundError\u001b[0m                         Traceback (most recent call last)",
      "\u001b[1;32m<ipython-input-2-38dbfda23fab>\u001b[0m in \u001b[0;36m<module>\u001b[1;34m()\u001b[0m\n\u001b[0;32m      1\u001b[0m \u001b[0mmypath\u001b[0m \u001b[1;33m=\u001b[0m \u001b[1;34m'./data/'\u001b[0m\u001b[1;33m\u001b[0m\u001b[0m\n\u001b[0;32m      2\u001b[0m \u001b[0msubfolder\u001b[0m \u001b[1;33m=\u001b[0m \u001b[1;34m'aggregatedCSVs/'\u001b[0m\u001b[1;33m\u001b[0m\u001b[0m\n\u001b[1;32m----> 3\u001b[1;33m \u001b[0mfiles\u001b[0m \u001b[1;33m=\u001b[0m \u001b[1;33m[\u001b[0m\u001b[0mf\u001b[0m \u001b[1;32mfor\u001b[0m \u001b[0mf\u001b[0m \u001b[1;32min\u001b[0m \u001b[0mlistdir\u001b[0m\u001b[1;33m(\u001b[0m\u001b[0mmypath\u001b[0m\u001b[1;33m)\u001b[0m \u001b[1;32mif\u001b[0m \u001b[0misfile\u001b[0m\u001b[1;33m(\u001b[0m\u001b[0mjoin\u001b[0m\u001b[1;33m(\u001b[0m\u001b[0mmypath\u001b[0m\u001b[1;33m,\u001b[0m \u001b[0mf\u001b[0m\u001b[1;33m)\u001b[0m\u001b[1;33m)\u001b[0m\u001b[1;33m]\u001b[0m\u001b[1;33m\u001b[0m\u001b[0m\n\u001b[0m",
      "\u001b[1;31mFileNotFoundError\u001b[0m: [Errno 2] No such file or directory: './data/'"
     ]
    }
   ],
   "source": [
    "mypath = './data/'\n",
    "subfolder = 'aggregatedCSVs/'\n",
    "files = [f for f in listdir(mypath) if isfile(join(mypath, f))]"
   ]
  },
  {
   "cell_type": "code",
   "execution_count": 16,
   "metadata": {
    "collapsed": false
   },
   "outputs": [
    {
     "data": {
      "text/plain": [
       "'2016-11-08-20-02_New_York.txt'"
      ]
     },
     "execution_count": 16,
     "metadata": {},
     "output_type": "execute_result"
    }
   ],
   "source": [
    "files[0]"
   ]
  },
  {
   "cell_type": "code",
   "execution_count": 27,
   "metadata": {
    "collapsed": false
   },
   "outputs": [
    {
     "name": "stdout",
     "output_type": "stream",
     "text": [
      "2016-11-08-20-02_New_York.txt\n",
      "2016-11-08-20-08_District_de_Columbia.txt\n",
      "2016-11-08-20-04_Californie.txt\n",
      "2016-11-08-20-09_Vermont.txt\n",
      "2016-11-08-20-35_Tennessee.txt\n",
      "2016-11-08-20-31_Massachusetts.txt\n",
      "2016-11-08-20-31_Texas.txt\n",
      "2016-11-08-20-10_Dakota_du_Sud.txt\n",
      "2016-11-08-20-01_Montana.txt\n",
      "2016-11-08-20-13_Washington.txt\n",
      "2016-11-08-20-09_Caroline_du_Nord.txt\n",
      "2016-11-08-20-01_Alabama.txt\n",
      "2016-11-08-20-43_Virginie_Occidentale.txt\n",
      "2016-11-08-20-34_Dakota_du_Nord.txt\n",
      "2016-11-08-20-37_Illinois.txt\n",
      "2016-11-08-20-00_Minnesota.txt\n",
      "2016-11-08-20-37_Floride.txt\n",
      "2016-11-08-20-41_Pennsylvanie.txt\n",
      "2016-11-08-20-24_Virginie.txt\n",
      "2016-11-08-20-50_Michigan.txt\n",
      "2016-11-08-20-01_Utah.txt\n",
      "2016-11-08-20-29_Arizona.txt\n",
      "2016-11-08-20-22_Ohio.txt\n",
      "2016-11-08-20-05_Connecticut.txt\n",
      "2016-11-08-20-41_Idaho.txt\n",
      "2016-11-08-20-28_Delaware.txt\n",
      "2016-11-08-20-51_Oklahoma.txt\n",
      "2016-11-08-20-36_Wyoming.txt\n",
      "2016-11-08-20-57_Indiana.txt\n",
      "2016-11-08-20-13_Arkansas.txt\n",
      ".DS_Store\n",
      "2016-11-08-20-24_Missouri.txt\n",
      "2016-11-08-20-27_Iowa.txt\n",
      "2016-11-08-20-31_Louisiane.txt\n",
      "._.DS_Store\n",
      "2016-11-08-20-15_Hawai.txt\n",
      "2016-11-08-20-02_Caroline_du_Sud.txt\n",
      "2016-11-08-20-56_New_Jersey.txt\n",
      "2016-11-08-20-59_Oregon.txt\n",
      "2016-11-08-20-08_Kentucky.txt\n",
      "2016-11-08-20-48_Rhode_Island.txt\n",
      "2016-11-08-20-03_Nouveau_Mexique.txt\n",
      "2016-11-08-20-24_New_Hampshire.txt\n",
      "2016-11-08-20-40_Nevada.txt\n",
      "2016-11-08-20-58_Maine.txt\n",
      "2016-11-08-20-52_Nebraska.txt\n",
      "2016-11-08-20-48_Maryland.txt\n",
      "2016-11-08-20-17_Wisconsin.txt\n",
      "2016-11-08-20-04_Colorado.txt\n",
      "2016-11-08-20-48_Mississippi.txt\n",
      "2016-11-08-20-11_Alaska.txt\n",
      "2016-11-08-20-57_Kansas.txt\n",
      "2016-11-08-20-19_Georgie.txt\n"
     ]
    }
   ],
   "source": [
    "for file in files :\n",
    "    print(file)\n",
    "    if not file.startswith('.'):\n",
    "        df = pd.read_csv(mypath + file, sep=';', names=['Time', 'State', 'Candidate']).groupby(\n",
    "            ['State', 'Candidate']).count()\n",
    "    df.to_csv(mypath + subfolder + file.split('.')[0] + '.csv')"
   ]
  },
  {
   "cell_type": "code",
   "execution_count": 30,
   "metadata": {
    "collapsed": false
   },
   "outputs": [
    {
     "name": "stdout",
     "output_type": "stream",
     "text": [
      "2016-11-08-20-02_New_York.txt\n"
     ]
    },
    {
     "data": {
      "text/html": [
       "<div>\n",
       "<table border=\"1\" class=\"dataframe\">\n",
       "  <thead>\n",
       "    <tr style=\"text-align: right;\">\n",
       "      <th></th>\n",
       "      <th>State</th>\n",
       "      <th>Candidate</th>\n",
       "      <th>Time</th>\n",
       "    </tr>\n",
       "  </thead>\n",
       "  <tbody>\n",
       "    <tr>\n",
       "      <th>0</th>\n",
       "      <td>New_York</td>\n",
       "      <td>Autre</td>\n",
       "      <td>53255</td>\n",
       "    </tr>\n",
       "    <tr>\n",
       "      <th>1</th>\n",
       "      <td>New_York</td>\n",
       "      <td>Blanc</td>\n",
       "      <td>76738</td>\n",
       "    </tr>\n",
       "    <tr>\n",
       "      <th>2</th>\n",
       "      <td>New_York</td>\n",
       "      <td>Castle</td>\n",
       "      <td>893</td>\n",
       "    </tr>\n",
       "    <tr>\n",
       "      <th>3</th>\n",
       "      <td>New_York</td>\n",
       "      <td>Clinton</td>\n",
       "      <td>4547418</td>\n",
       "    </tr>\n",
       "    <tr>\n",
       "      <th>4</th>\n",
       "      <td>New_York</td>\n",
       "      <td>Johnson</td>\n",
       "      <td>176291</td>\n",
       "    </tr>\n",
       "    <tr>\n",
       "      <th>5</th>\n",
       "      <td>New_York</td>\n",
       "      <td>McMullin</td>\n",
       "      <td>10367</td>\n",
       "    </tr>\n",
       "    <tr>\n",
       "      <th>6</th>\n",
       "      <td>New_York</td>\n",
       "      <td>Stein</td>\n",
       "      <td>107756</td>\n",
       "    </tr>\n",
       "    <tr>\n",
       "      <th>7</th>\n",
       "      <td>New_York</td>\n",
       "      <td>Trump</td>\n",
       "      <td>2814346</td>\n",
       "    </tr>\n",
       "  </tbody>\n",
       "</table>\n",
       "</div>"
      ],
      "text/plain": [
       "      State Candidate     Time\n",
       "0  New_York     Autre    53255\n",
       "1  New_York     Blanc    76738\n",
       "2  New_York    Castle      893\n",
       "3  New_York   Clinton  4547418\n",
       "4  New_York   Johnson   176291\n",
       "5  New_York  McMullin    10367\n",
       "6  New_York     Stein   107756\n",
       "7  New_York     Trump  2814346"
      ]
     },
     "execution_count": 30,
     "metadata": {},
     "output_type": "execute_result"
    }
   ],
   "source": [
    "# example of aggregated csv_file\n",
    "df = pd.read_csv(mypath + subfolder + files[0].split('.')[0] + '.csv')\n",
    "print(files[0])\n",
    "df"
   ]
  }
 ],
 "metadata": {
  "anaconda-cloud": {},
  "kernelspec": {
   "display_name": "Python [Root]",
   "language": "python",
   "name": "Python [Root]"
  },
  "language_info": {
   "codemirror_mode": {
    "name": "ipython",
    "version": 3
   },
   "file_extension": ".py",
   "mimetype": "text/x-python",
   "name": "python",
   "nbconvert_exporter": "python",
   "pygments_lexer": "ipython3",
   "version": "3.5.2"
  }
 },
 "nbformat": 4,
 "nbformat_minor": 0
}
