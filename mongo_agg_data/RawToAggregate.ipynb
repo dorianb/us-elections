{
 "cells": [
  {
   "cell_type": "code",
   "execution_count": 1,
   "metadata": {
    "collapsed": true
   },
   "outputs": [],
   "source": [
    "import pandas as pd\n",
    "import numpy as np\n",
    "from os import listdir\n",
    "from os.path import isfile, join"
   ]
  },
  {
   "cell_type": "code",
   "execution_count": 2,
   "metadata": {
    "collapsed": false
   },
   "outputs": [],
   "source": [
    "mypath = './data/'\n",
    "subfolder = 'aggregatedCSVs/'\n",
    "files = [f for f in listdir(mypath) if isfile(join(mypath, f))]"
   ]
  },
  {
   "cell_type": "code",
   "execution_count": 3,
   "metadata": {
    "collapsed": false
   },
   "outputs": [
    {
     "data": {
      "text/plain": [
       "'2016-11-08-20-02_New_York.txt'"
      ]
     },
     "execution_count": 3,
     "metadata": {},
     "output_type": "execute_result"
    }
   ],
   "source": [
    "files[0]"
   ]
  },
  {
   "cell_type": "code",
   "execution_count": 4,
   "metadata": {
    "collapsed": false
   },
   "outputs": [
    {
     "data": {
      "text/html": [
       "<div>\n",
       "<table border=\"1\" class=\"dataframe\">\n",
       "  <thead>\n",
       "    <tr style=\"text-align: right;\">\n",
       "      <th></th>\n",
       "      <th>Time</th>\n",
       "      <th>State</th>\n",
       "      <th>Candidate</th>\n",
       "    </tr>\n",
       "  </thead>\n",
       "  <tbody>\n",
       "    <tr>\n",
       "      <th>0</th>\n",
       "      <td>2016-11-08T20:02</td>\n",
       "      <td>New_York</td>\n",
       "      <td>Clinton</td>\n",
       "    </tr>\n",
       "    <tr>\n",
       "      <th>1</th>\n",
       "      <td>2016-11-08T20:02</td>\n",
       "      <td>New_York</td>\n",
       "      <td>Clinton</td>\n",
       "    </tr>\n",
       "    <tr>\n",
       "      <th>2</th>\n",
       "      <td>2016-11-08T20:02</td>\n",
       "      <td>New_York</td>\n",
       "      <td>Clinton</td>\n",
       "    </tr>\n",
       "  </tbody>\n",
       "</table>\n",
       "</div>"
      ],
      "text/plain": [
       "               Time     State Candidate\n",
       "0  2016-11-08T20:02  New_York   Clinton\n",
       "1  2016-11-08T20:02  New_York   Clinton\n",
       "2  2016-11-08T20:02  New_York   Clinton"
      ]
     },
     "execution_count": 4,
     "metadata": {},
     "output_type": "execute_result"
    }
   ],
   "source": [
    "df = pd.read_csv(mypath + files[0], sep=';', names=['Time', 'State', 'Candidate'])\n",
    "df.head(3)"
   ]
  },
  {
   "cell_type": "code",
   "execution_count": 5,
   "metadata": {
    "collapsed": false
   },
   "outputs": [
    {
     "data": {
      "text/plain": [
       "State     Candidate\n",
       "New_York  Autre          53255\n",
       "          Blanc          76738\n",
       "          Castle           893\n",
       "          Clinton      4547418\n",
       "          Johnson       176291\n",
       "          McMullin       10367\n",
       "          Stein         107756\n",
       "          Trump        2814346\n",
       "Name: Time, dtype: int64"
      ]
     },
     "execution_count": 5,
     "metadata": {},
     "output_type": "execute_result"
    }
   ],
   "source": [
    "df.groupby(['State', 'Candidate']).count()['Time']"
   ]
  },
  {
   "cell_type": "code",
   "execution_count": 6,
   "metadata": {
    "collapsed": false
   },
   "outputs": [
    {
     "name": "stdout",
     "output_type": "stream",
     "text": [
      "2016-11-08-20-02_New_York.txt\n",
      "2016-11-08-20-08_District_de_Columbia.txt\n",
      "2016-11-08-20-04_Californie.txt\n",
      "2016-11-08-20-09_Vermont.txt\n",
      "2016-11-08-20-35_Tennessee.txt\n",
      "2016-11-08-20-31_Massachusetts.txt\n",
      "2016-11-08-20-31_Texas.txt\n",
      "2016-11-08-20-10_Dakota_du_Sud.txt\n",
      "2016-11-08-20-01_Montana.txt\n",
      "2016-11-08-20-13_Washington.txt\n",
      "2016-11-08-20-09_Caroline_du_Nord.txt\n",
      "2016-11-08-20-01_Alabama.txt\n",
      "2016-11-08-20-43_Virginie_Occidentale.txt\n",
      "2016-11-08-20-34_Dakota_du_Nord.txt\n",
      "2016-11-08-20-37_Illinois.txt\n",
      "2016-11-08-20-00_Minnesota.txt\n",
      "2016-11-08-20-37_Floride.txt\n",
      "2016-11-08-20-41_Pennsylvanie.txt\n",
      "2016-11-08-20-24_Virginie.txt\n",
      "2016-11-08-20-50_Michigan.txt\n",
      "2016-11-08-20-01_Utah.txt\n",
      "2016-11-08-20-29_Arizona.txt\n",
      "2016-11-08-20-22_Ohio.txt\n",
      "2016-11-08-20-05_Connecticut.txt\n",
      "2016-11-08-20-41_Idaho.txt\n",
      "2016-11-08-20-28_Delaware.txt\n",
      "2016-11-08-20-51_Oklahoma.txt\n",
      "2016-11-08-20-36_Wyoming.txt\n",
      "2016-11-08-20-57_Indiana.txt\n",
      "2016-11-08-20-13_Arkansas.txt\n",
      ".DS_Store\n",
      "2016-11-08-20-24_Missouri.txt\n",
      "2016-11-08-20-27_Iowa.txt\n",
      "2016-11-08-20-31_Louisiane.txt\n",
      "._.DS_Store\n",
      "2016-11-08-20-15_Hawai.txt\n",
      "2016-11-08-20-02_Caroline_du_Sud.txt\n",
      "2016-11-08-20-56_New_Jersey.txt\n",
      "2016-11-08-20-59_Oregon.txt\n",
      "2016-11-08-20-08_Kentucky.txt\n",
      "2016-11-08-20-48_Rhode_Island.txt\n",
      "2016-11-08-20-03_Nouveau_Mexique.txt\n",
      "2016-11-08-20-24_New_Hampshire.txt\n",
      "2016-11-08-20-40_Nevada.txt\n",
      "2016-11-08-20-58_Maine.txt\n",
      "2016-11-08-20-52_Nebraska.txt\n",
      "2016-11-08-20-48_Maryland.txt\n",
      "2016-11-08-20-17_Wisconsin.txt\n",
      "2016-11-08-20-04_Colorado.txt\n",
      "2016-11-08-20-48_Mississippi.txt\n",
      "2016-11-08-20-11_Alaska.txt\n",
      "2016-11-08-20-57_Kansas.txt\n",
      "2016-11-08-20-19_Georgie.txt\n"
     ]
    }
   ],
   "source": [
    "for file in files :\n",
    "    print(file)\n",
    "    if not file.startswith('.'):\n",
    "        df = pd.read_csv(mypath + file, sep=';', names=['Time', 'State', 'Candidate'])\n",
    "        columns = np.concatenate((['Time', 'State'], df['Candidate'].unique()))\n",
    "        values = np.concatenate(([df['Time'][0].replace('T', ' '), df['State'][0]], \n",
    "                                 df.groupby(['State', 'Candidate']).count()['Time']))\n",
    "        new_df = pd.DataFrame(values.reshape(1,len(values)), index = [0], columns=columns)\n",
    "        new_df.to_csv(mypath + subfolder + file.split('.')[0] + '.csv')"
   ]
  },
  {
   "cell_type": "code",
   "execution_count": 7,
   "metadata": {
    "collapsed": false
   },
   "outputs": [
    {
     "name": "stdout",
     "output_type": "stream",
     "text": [
      "2016-11-08-20-02_New_York.txt\n"
     ]
    },
    {
     "data": {
      "text/html": [
       "<div>\n",
       "<table border=\"1\" class=\"dataframe\">\n",
       "  <thead>\n",
       "    <tr style=\"text-align: right;\">\n",
       "      <th></th>\n",
       "      <th>Unnamed: 0</th>\n",
       "      <th>Time</th>\n",
       "      <th>State</th>\n",
       "      <th>Clinton</th>\n",
       "      <th>Trump</th>\n",
       "      <th>Johnson</th>\n",
       "      <th>McMullin</th>\n",
       "      <th>Stein</th>\n",
       "      <th>Autre</th>\n",
       "      <th>Blanc</th>\n",
       "    </tr>\n",
       "  </thead>\n",
       "  <tbody>\n",
       "    <tr>\n",
       "      <th>0</th>\n",
       "      <td>0</td>\n",
       "      <td>2016-11-08 20:04</td>\n",
       "      <td>Californie</td>\n",
       "      <td>147244</td>\n",
       "      <td>428915</td>\n",
       "      <td>8753788</td>\n",
       "      <td>478499</td>\n",
       "      <td>39586</td>\n",
       "      <td>278657</td>\n",
       "      <td>4483810</td>\n",
       "    </tr>\n",
       "  </tbody>\n",
       "</table>\n",
       "</div>"
      ],
      "text/plain": [
       "   Unnamed: 0              Time       State  Clinton   Trump  Johnson  \\\n",
       "0           0  2016-11-08 20:04  Californie   147244  428915  8753788   \n",
       "\n",
       "   McMullin  Stein   Autre    Blanc  \n",
       "0    478499  39586  278657  4483810  "
      ]
     },
     "execution_count": 7,
     "metadata": {},
     "output_type": "execute_result"
    }
   ],
   "source": [
    "# example of aggregated csv_file\n",
    "df = pd.read_csv(mypath + subfolder + files[2].split('.')[0] + '.csv')\n",
    "print(files[0])\n",
    "df"
   ]
  },
  {
   "cell_type": "code",
   "execution_count": null,
   "metadata": {
    "collapsed": true
   },
   "outputs": [],
   "source": []
  }
 ],
 "metadata": {
  "anaconda-cloud": {},
  "kernelspec": {
   "display_name": "Python [Root]",
   "language": "python",
   "name": "Python [Root]"
  },
  "language_info": {
   "codemirror_mode": {
    "name": "ipython",
    "version": 3
   },
   "file_extension": ".py",
   "mimetype": "text/x-python",
   "name": "python",
   "nbconvert_exporter": "python",
   "pygments_lexer": "ipython3",
   "version": "3.5.2"
  }
 },
 "nbformat": 4,
 "nbformat_minor": 0
}
